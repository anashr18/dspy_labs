{
 "cells": [
  {
   "cell_type": "code",
   "execution_count": null,
   "metadata": {},
   "outputs": [],
   "source": [
    " client = OpenAI()\n",
    "        response = client.chat.completions.create(\n",
    "            # model=model,\n",
    "            messages=[\n",
    "                {\"role\": \"system\", \"content\": \"You are a helpful assistant.\"},\n",
    "                {\"role\": \"user\", \"content\": \"Who won the world series in 2020?\"},\n",
    "                {\n",
    "                    \"role\": \"assistant\",\n",
    "                    \"content\": \"The Los Angeles Dodgers won the World Series in 2020.\",\n",
    "                },\n",
    "                {\"role\": \"user\", \"content\": \"Where was it played?\"},\n",
    "            ],\n",
    "        )\n",
    "        print(response.choices[0].message.content)"
   ]
  },
  {
   "cell_type": "code",
   "execution_count": 2,
   "metadata": {},
   "outputs": [],
   "source": [
    "import os\n",
    "from openai import OpenAI\n",
    "import getpass\n",
    "import dsp\n",
    "\n",
    "  # or replace with your API key (optional)\n",
    "os.environ['OPENAI_API_KEY']=getpass.getpass()\n",
    "# openai_key = os.getenv('OPENAI_API_KEY')\n",
    "\n",
    "client = OpenAI(\n",
    "    # This is the default and can be omitted\n",
    "    api_key=os.environ.get(\"OPENAI_API_KEY\"),\n",
    ")\n",
    "\n",
    "chat_completion = client.chat.completions.create(\n",
    "    messages=[\n",
    "        {\n",
    "            \"role\": \"user\",\n",
    "            \"content\": \"Say this is a test\",\n",
    "        }\n",
    "    ],\n",
    "    model=\"gpt-3.5-turbo\",\n",
    ")"
   ]
  },
  {
   "cell_type": "code",
   "execution_count": 4,
   "metadata": {},
   "outputs": [
    {
     "name": "stdout",
     "output_type": "stream",
     "text": [
      "This is a test\n"
     ]
    }
   ],
   "source": [
    "print(chat_completion.choices[0].message.content)"
   ]
  },
  {
   "cell_type": "code",
   "execution_count": 3,
   "metadata": {},
   "outputs": [],
   "source": [
    "# %load_ext autoreload\n",
    "# %autoreload 2\n",
    "# %reload_ext autoreload"
   ]
  },
  {
   "cell_type": "code",
   "execution_count": 3,
   "metadata": {},
   "outputs": [],
   "source": [
    "import os\n",
    "from openai import OpenAI\n",
    "import getpass"
   ]
  },
  {
   "cell_type": "code",
   "execution_count": 2,
   "metadata": {},
   "outputs": [],
   "source": [
    "os.environ['OPENAI_API_KEY']=getpass.getpass()"
   ]
  },
  {
   "cell_type": "code",
   "execution_count": 63,
   "metadata": {},
   "outputs": [],
   "source": [
    "# %load_ext autoreload\n",
    "%autoreload 2\n",
    "%reload_ext autoreload\n",
    "\n",
    "from xdspy import GPT3"
   ]
  },
  {
   "cell_type": "code",
   "execution_count": 64,
   "metadata": {},
   "outputs": [
    {
     "data": {
      "text/plain": [
       "['\\n\\nToday, politics is a highly polarizing and contentious topic, with many countries facing significant challenges and divisions. In the United States, the ongoing impeachment inquiry against President Donald Trump continues to dominate headlines and spark heated debates. Meanwhile, Brexit negotiations in the United Kingdom remain at a standstill, causing uncertainty and frustration among citizens and politicians alike. In other parts of the world, protests and civil unrest have erupted in countries such as Hong Kong, Chile, and Lebanon, highlighting the growing dissatisfaction with government policies and leadership. Additionally, the rise of populist and nationalist movements in various countries has further complicated the political landscape and raised concerns about the future of democracy. Overall, politics today is characterized by intense partisanship, global instability, and a growing sense of']"
      ]
     },
     "execution_count": 64,
     "metadata": {},
     "output_type": "execute_result"
    }
   ],
   "source": [
    "\n",
    "gpt3 = GPT3(model=\"gpt-3.5-turbo-instruct\") \n",
    "# response = gpt3.basic_request(\"Give me sometging on religion today?\",  model=\"gpt-3.5-turbo-instruct\")\n",
    "# response = gpt3.basic_request(\"Give me sometging on philosophy today?\",  model=\"gpt-3.5-turbo-instruct\")\n",
    "gpt3(\"Give me sometging on sports today?\")\n",
    "gpt3(\"Give me sometging on politics today?\")"
   ]
  },
  {
   "cell_type": "code",
   "execution_count": 65,
   "metadata": {},
   "outputs": [
    {
     "name": "stdout",
     "output_type": "stream",
     "text": [
      "\n",
      "\n",
      "\n",
      "\n",
      "Give me sometging on sports today?\u001b[32m\n",
      "\n",
      "Today in sports, the NBA playoffs continue with the Milwaukee Bucks facing off against the Brooklyn Nets in Game 3 of their series. The Bucks are looking to bounce back after losing the first two games, while the Nets hope to maintain their dominance and take a commanding 3-0 lead.\n",
      "\n",
      "In the NHL, the Vegas Golden Knights and the Montreal Canadiens will play Game 2 of their series. The Golden Knights are coming off a 4-1 win in Game 1 and will look to continue their strong performance, while the Canadiens hope to even the series.\n",
      "\n",
      "In baseball, the New York Yankees and the Boston Red Sox will face off in a highly anticipated rivalry game. Both teams are currently tied for first place in the American League East division\u001b[0m\n",
      "\n",
      "\n",
      "\n",
      "\n",
      "\n",
      "\n",
      "\n",
      "Give me sometging on politics today?\u001b[32m\n",
      "\n",
      "Today, politics is a highly polarizing and contentious topic, with many countries facing significant challenges and divisions. In the United States, the ongoing impeachment inquiry against President Donald Trump continues to dominate headlines and spark heated debates. Meanwhile, Brexit negotiations in the United Kingdom remain at a standstill, causing uncertainty and frustration among citizens and politicians alike. In other parts of the world, protests and civil unrest have erupted in countries such as Hong Kong, Chile, and Lebanon, highlighting the growing dissatisfaction with government policies and leadership. Additionally, the rise of populist and nationalist movements in various countries has further complicated the political landscape and raised concerns about the future of democracy. Overall, politics today is characterized by intense partisanship, global instability, and a growing sense of\u001b[0m\n",
      "\n",
      "\n",
      "\n"
     ]
    }
   ],
   "source": [
    "gpt3.inspect_history(n=2)"
   ]
  },
  {
   "cell_type": "code",
   "execution_count": null,
   "metadata": {},
   "outputs": [],
   "source": [
    "git config --global user.name \"anashr18\"\n",
    "git config --global user.email \"anand.shri18@gmail.com\"\n"
   ]
  },
  {
   "cell_type": "code",
   "execution_count": 67,
   "metadata": {},
   "outputs": [
    {
     "data": {
      "text/plain": [
       "[{'prompt': 'Give me sometging on sports today?',\n",
       "  'response': Completion(id='cmpl-9b70Hnn70yo1lxqYto46OmJ1BrtOF', choices=[CompletionChoice(finish_reason='length', index=0, logprobs=None, text='\\n\\nToday in sports, the NBA playoffs continue with the Milwaukee Bucks facing off against the Brooklyn Nets in Game 3 of their series. The Bucks are looking to bounce back after losing the first two games, while the Nets hope to maintain their dominance and take a commanding 3-0 lead.\\n\\nIn the NHL, the Vegas Golden Knights and the Montreal Canadiens will play Game 2 of their series. The Golden Knights are coming off a 4-1 win in Game 1 and will look to continue their strong performance, while the Canadiens hope to even the series.\\n\\nIn baseball, the New York Yankees and the Boston Red Sox will face off in a highly anticipated rivalry game. Both teams are currently tied for first place in the American League East division')], created=1718632085, model='gpt-3.5-turbo-instruct', object='text_completion', system_fingerprint=None, usage=CompletionUsage(completion_tokens=150, prompt_tokens=9, total_tokens=159)),\n",
       "  'kwargs': {'model': 'gpt-3.5-turbo-instruct',\n",
       "   'temperature': 0.0,\n",
       "   'max_tokens': 150,\n",
       "   'top_p': 1,\n",
       "   'frequency_penalty': 0,\n",
       "   'presence_penalty': 0,\n",
       "   'n': 1,\n",
       "   'prompt': 'Give me sometging on sports today?'},\n",
       "  'raw_kwargs': {}},\n",
       " {'prompt': 'Give me sometging on politics today?',\n",
       "  'response': Completion(id='cmpl-9b70L1GEbZPtmSuK0MZS8GC1Vwap1', choices=[CompletionChoice(finish_reason='length', index=0, logprobs=None, text='\\n\\nToday, politics is a highly polarizing and contentious topic, with many countries facing significant challenges and divisions. In the United States, the ongoing impeachment inquiry against President Donald Trump continues to dominate headlines and spark heated debates. Meanwhile, Brexit negotiations in the United Kingdom remain at a standstill, causing uncertainty and frustration among citizens and politicians alike. In other parts of the world, protests and civil unrest have erupted in countries such as Hong Kong, Chile, and Lebanon, highlighting the growing dissatisfaction with government policies and leadership. Additionally, the rise of populist and nationalist movements in various countries has further complicated the political landscape and raised concerns about the future of democracy. Overall, politics today is characterized by intense partisanship, global instability, and a growing sense of')], created=1718632089, model='gpt-3.5-turbo-instruct', object='text_completion', system_fingerprint=None, usage=CompletionUsage(completion_tokens=150, prompt_tokens=9, total_tokens=159)),\n",
       "  'kwargs': {'model': 'gpt-3.5-turbo-instruct',\n",
       "   'temperature': 0.0,\n",
       "   'max_tokens': 150,\n",
       "   'top_p': 1,\n",
       "   'frequency_penalty': 0,\n",
       "   'presence_penalty': 0,\n",
       "   'n': 1,\n",
       "   'prompt': 'Give me sometging on politics today?'},\n",
       "  'raw_kwargs': {}}]"
      ]
     },
     "execution_count": 67,
     "metadata": {},
     "output_type": "execute_result"
    }
   ],
   "source": [
    "gpt3.history"
   ]
  },
  {
   "cell_type": "code",
   "execution_count": null,
   "metadata": {},
   "outputs": [],
   "source": []
  }
 ],
 "metadata": {
  "kernelspec": {
   "display_name": "liblab",
   "language": "python",
   "name": "python3"
  },
  "language_info": {
   "codemirror_mode": {
    "name": "ipython",
    "version": 3
   },
   "file_extension": ".py",
   "mimetype": "text/x-python",
   "name": "python",
   "nbconvert_exporter": "python",
   "pygments_lexer": "ipython3",
   "version": "3.10.14"
  }
 },
 "nbformat": 4,
 "nbformat_minor": 2
}
