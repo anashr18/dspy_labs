{
 "cells": [
  {
   "cell_type": "code",
   "execution_count": null,
   "metadata": {},
   "outputs": [],
   "source": [
    "#  client = OpenAI()\n",
    "#         response = client.chat.completions.create(\n",
    "#             # model=model,\n",
    "#             messages=[\n",
    "#                 {\"role\": \"system\", \"content\": \"You are a helpful assistant.\"},\n",
    "#                 {\"role\": \"user\", \"content\": \"Who won the world series in 2020?\"},\n",
    "#                 {\n",
    "#                     \"role\": \"assistant\",\n",
    "#                     \"content\": \"The Los Angeles Dodgers won the World Series in 2020.\",\n",
    "#                 },\n",
    "#                 {\"role\": \"user\", \"content\": \"Where was it played?\"},\n",
    "#             ],\n",
    "#         )\n",
    "#         print(response.choices[0].message.content)"
   ]
  },
  {
   "cell_type": "code",
   "execution_count": 2,
   "metadata": {},
   "outputs": [],
   "source": [
    "# import os\n",
    "# from openai import OpenAI\n",
    "# import getpass\n",
    "# import dsp\n",
    "\n",
    "#   # or replace with your API key (optional)\n",
    "# os.environ['OPENAI_API_KEY']=getpass.getpass()\n",
    "# # openai_key = os.getenv('OPENAI_API_KEY')\n",
    "\n",
    "# client = OpenAI(\n",
    "#     # This is the default and can be omitted\n",
    "#     api_key=os.environ.get(\"OPENAI_API_KEY\"),\n",
    "# )\n",
    "\n",
    "# chat_completion = client.chat.completions.create(\n",
    "#     messages=[\n",
    "#         {\n",
    "#             \"role\": \"user\",\n",
    "#             \"content\": \"Say this is a test\",\n",
    "#         }\n",
    "#     ],\n",
    "#     model=\"gpt-3.5-turbo\",\n",
    "# )"
   ]
  },
  {
   "cell_type": "code",
   "execution_count": 4,
   "metadata": {},
   "outputs": [
    {
     "name": "stdout",
     "output_type": "stream",
     "text": [
      "This is a test\n"
     ]
    }
   ],
   "source": [
    "# print(chat_completion.choices[0].message.content)"
   ]
  },
  {
   "cell_type": "code",
   "execution_count": 3,
   "metadata": {},
   "outputs": [],
   "source": [
    "# %load_ext autoreload\n",
    "# %autoreload 2\n",
    "# %reload_ext autoreload"
   ]
  },
  {
   "cell_type": "markdown",
   "metadata": {},
   "source": [
    "# lm"
   ]
  },
  {
   "cell_type": "code",
   "execution_count": 2,
   "metadata": {},
   "outputs": [],
   "source": [
    "import os\n",
    "from openai import OpenAI\n",
    "import getpass"
   ]
  },
  {
   "cell_type": "code",
   "execution_count": 3,
   "metadata": {},
   "outputs": [],
   "source": [
    "os.environ['OPENAI_API_KEY']=getpass.getpass()"
   ]
  },
  {
   "cell_type": "code",
   "execution_count": 4,
   "metadata": {},
   "outputs": [],
   "source": [
    "%load_ext autoreload\n",
    "%autoreload 2\n",
    "%reload_ext autoreload\n",
    "import xdspy\n",
    "# from xdspy import GPT3"
   ]
  },
  {
   "cell_type": "code",
   "execution_count": 5,
   "metadata": {},
   "outputs": [
    {
     "data": {
      "text/plain": [
       "['\\n\\nToday, politics is a highly polarizing and contentious topic, with many countries facing significant challenges and divisions. In the United States, the ongoing impeachment inquiry against President Donald Trump continues to dominate headlines and spark heated debates. Meanwhile, Brexit negotiations in the United Kingdom remain at a standstill, causing uncertainty and frustration among citizens and politicians alike. In other parts of the world, protests and civil unrest have erupted in countries such as Hong Kong, Chile, and Lebanon, highlighting the growing dissatisfaction with government policies and leadership. Additionally, the rise of populist and nationalist movements in various countries has further complicated the political landscape and raised concerns about the future of democracy. Overall, politics today is characterized by intense partisanship, global instability, and a growing sense of']"
      ]
     },
     "execution_count": 5,
     "metadata": {},
     "output_type": "execute_result"
    }
   ],
   "source": [
    "\n",
    "gpt3 = xdspy.GPT3(model=\"gpt-3.5-turbo-instruct\") \n",
    "# response = gpt3.basic_request(\"Give me sometging on religion today?\",  model=\"gpt-3.5-turbo-instruct\")\n",
    "# response = gpt3.basic_request(\"Give me sometging on philosophy today?\",  model=\"gpt-3.5-turbo-instruct\")\n",
    "gpt3(\"Give me sometging on sports today?\")\n",
    "gpt3(\"Give me sometging on politics today?\")"
   ]
  },
  {
   "cell_type": "code",
   "execution_count": 6,
   "metadata": {},
   "outputs": [
    {
     "name": "stdout",
     "output_type": "stream",
     "text": [
      "\n",
      "\n",
      "\n",
      "\n",
      "Give me sometging on sports today?\u001b[32m\n",
      "\n",
      "Today in sports, the NBA playoffs continue with the Milwaukee Bucks facing off against the Brooklyn Nets in Game 3 of their series. The Bucks are looking to bounce back after losing the first two games, while the Nets hope to maintain their dominance and take a commanding 3-0 lead.\n",
      "\n",
      "In the NHL, the Vegas Golden Knights and the Montreal Canadiens will play Game 2 of their series. The Golden Knights are coming off a 4-1 win in Game 1 and will look to continue their strong performance, while the Canadiens hope to even the series.\n",
      "\n",
      "In baseball, the New York Yankees and the Boston Red Sox will face off in a highly anticipated rivalry game. Both teams are currently tied for first place in the American League East division\u001b[0m\n",
      "\n",
      "\n",
      "\n",
      "\n",
      "\n",
      "\n",
      "\n",
      "Give me sometging on politics today?\u001b[32m\n",
      "\n",
      "Today, politics is a highly polarizing and contentious topic, with many countries facing significant challenges and divisions. In the United States, the ongoing impeachment inquiry against President Donald Trump continues to dominate headlines and spark heated debates. Meanwhile, Brexit negotiations in the United Kingdom remain at a standstill, causing uncertainty and frustration among citizens and politicians alike. In other parts of the world, protests and civil unrest have erupted in countries such as Hong Kong, Chile, and Lebanon, highlighting the growing dissatisfaction with government policies and leadership. Additionally, the rise of populist and nationalist movements in various countries has further complicated the political landscape and raised concerns about the future of democracy. Overall, politics today is characterized by intense partisanship, global instability, and a growing sense of\u001b[0m\n",
      "\n",
      "\n",
      "\n"
     ]
    }
   ],
   "source": [
    "gpt3.inspect_history(n=2)"
   ]
  },
  {
   "cell_type": "code",
   "execution_count": 7,
   "metadata": {},
   "outputs": [
    {
     "data": {
      "text/plain": [
       "[{'prompt': 'Give me sometging on sports today?',\n",
       "  'response': Completion(id='cmpl-9fECePjtcKNeb3yXHDRL8iVSPjJWv', choices=[CompletionChoice(finish_reason='length', index=0, logprobs=None, text='\\n\\nToday in sports, the NBA playoffs continue with the Milwaukee Bucks facing off against the Brooklyn Nets in Game 3 of their series. The Bucks are looking to bounce back after losing the first two games, while the Nets hope to maintain their dominance and take a commanding 3-0 lead.\\n\\nIn the NHL, the Vegas Golden Knights and the Montreal Canadiens will play Game 2 of their series. The Golden Knights are coming off a 4-1 win in Game 1 and will look to continue their strong performance, while the Canadiens hope to even the series.\\n\\nIn baseball, the New York Yankees and the Boston Red Sox will face off in a highly anticipated rivalry game. Both teams are currently tied for first place in the American League East division')], created=1719613072, model='gpt-3.5-turbo-instruct', object='text_completion', system_fingerprint=None, usage=CompletionUsage(completion_tokens=150, prompt_tokens=9, total_tokens=159)),\n",
       "  'kwargs': {'model': 'gpt-3.5-turbo-instruct',\n",
       "   'temperature': 0.0,\n",
       "   'max_tokens': 150,\n",
       "   'top_p': 1,\n",
       "   'frequency_penalty': 0,\n",
       "   'presence_penalty': 0,\n",
       "   'n': 1,\n",
       "   'prompt': 'Give me sometging on sports today?'},\n",
       "  'raw_kwargs': {}},\n",
       " {'prompt': 'Give me sometging on politics today?',\n",
       "  'response': Completion(id='cmpl-9fEChiIeVEdontWtGBQ5fFx49ZZg1', choices=[CompletionChoice(finish_reason='length', index=0, logprobs=None, text='\\n\\nToday, politics is a highly polarizing and contentious topic, with many countries facing significant challenges and divisions. In the United States, the ongoing impeachment inquiry against President Donald Trump continues to dominate headlines and spark heated debates. Meanwhile, Brexit negotiations in the United Kingdom remain at a standstill, causing uncertainty and frustration among citizens and politicians alike. In other parts of the world, protests and civil unrest have erupted in countries such as Hong Kong, Chile, and Lebanon, highlighting the growing dissatisfaction with government policies and leadership. Additionally, the rise of populist and nationalist movements in various countries has further complicated the political landscape and raised concerns about the future of democracy. Overall, politics today is characterized by intense partisanship, global instability, and a growing sense of')], created=1719613075, model='gpt-3.5-turbo-instruct', object='text_completion', system_fingerprint=None, usage=CompletionUsage(completion_tokens=150, prompt_tokens=9, total_tokens=159)),\n",
       "  'kwargs': {'model': 'gpt-3.5-turbo-instruct',\n",
       "   'temperature': 0.0,\n",
       "   'max_tokens': 150,\n",
       "   'top_p': 1,\n",
       "   'frequency_penalty': 0,\n",
       "   'presence_penalty': 0,\n",
       "   'n': 1,\n",
       "   'prompt': 'Give me sometging on politics today?'},\n",
       "  'raw_kwargs': {}}]"
      ]
     },
     "execution_count": 7,
     "metadata": {},
     "output_type": "execute_result"
    }
   ],
   "source": [
    "gpt3.history"
   ]
  },
  {
   "cell_type": "markdown",
   "metadata": {},
   "source": [
    "# rm"
   ]
  },
  {
   "cell_type": "code",
   "execution_count": 8,
   "metadata": {},
   "outputs": [
    {
     "name": "stdout",
     "output_type": "stream",
     "text": [
      "The autoreload extension is already loaded. To reload it, use:\n",
      "  %reload_ext autoreload\n"
     ]
    }
   ],
   "source": [
    "%load_ext autoreload\n",
    "%autoreload 2\n",
    "%reload_ext autoreload\n",
    "import xdspy\n",
    "# from xdspy import Colbertv2\n",
    "# colbert_server = 'http://ec2-44-228-128-229.us-west-2.compute.amazonaws.com:8893/api/search'\n",
    "colbert_server = 'http://20.102.90.50:2017/wiki17_abstracts'\n",
    "cb = xdspy.Colbertv2(url=colbert_server)"
   ]
  },
  {
   "cell_type": "code",
   "execution_count": 9,
   "metadata": {},
   "outputs": [],
   "source": [
    "\n",
    "topk = cb(query=\"Which award did the first book of Gary Zukav receive?\", k=3)"
   ]
  },
  {
   "cell_type": "code",
   "execution_count": 10,
   "metadata": {},
   "outputs": [
    {
     "data": {
      "text/plain": [
       "'The Dancing Wu Li Masters | The Dancing Wu Li Masters is a 1979 book by Gary Zukav, a popular science work exploring modern physics, and quantum phenomena in particular. It was awarded a 1980 U.S. National Book Award in category of Science. Although it explores empirical topics in modern physics research, \"The Dancing Wu Li Masters\" gained attention for leveraging metaphors taken from eastern spiritual movements, in particular the Huayen school of Buddhism with the monk Fazang\\'s treatise on The Golden Lion, to explain quantum phenomena and has been regarded by some reviewers as a New Age work, although the book is mostly concerned with the work of pioneers in western physics down through the ages.'"
      ]
     },
     "execution_count": 10,
     "metadata": {},
     "output_type": "execute_result"
    }
   ],
   "source": [
    "topk[1].long_text"
   ]
  },
  {
   "cell_type": "markdown",
   "metadata": {},
   "source": [
    "# Config"
   ]
  },
  {
   "cell_type": "code",
   "execution_count": 12,
   "metadata": {},
   "outputs": [
    {
     "name": "stdout",
     "output_type": "stream",
     "text": [
      "The autoreload extension is already loaded. To reload it, use:\n",
      "  %reload_ext autoreload\n"
     ]
    }
   ],
   "source": [
    "%load_ext autoreload\n",
    "%autoreload 2\n",
    "%reload_ext autoreload"
   ]
  },
  {
   "cell_type": "code",
   "execution_count": 13,
   "metadata": {},
   "outputs": [],
   "source": [
    "xdspy.settings.configure(lm=gpt3, rm=cb)"
   ]
  },
  {
   "cell_type": "code",
   "execution_count": 14,
   "metadata": {},
   "outputs": [],
   "source": [
    "train = [('Who produced the album that included a re-recording of \"Lithium\"?', ['Butch Vig']),\n",
    "         ('Who was the director of the 2009 movie featuring Peter Outerbridge as William Easton?', ['Kevin Greutert']),\n",
    "         ('The heir to the Du Pont family fortune sponsored what wrestling team?', ['Foxcatcher', 'Team Foxcatcher', 'Foxcatcher Team']),\n",
    "         ('In what year was the star of To Hell and Back born?', ['1925']),\n",
    "         ('Which award did the first book of Gary Zukav receive?', ['U.S. National Book Award', 'National Book Award']),\n",
    "         ('What city was the victim of Joseph Druces working in?', ['Boston, Massachusetts', 'Boston']),]\n",
    "\n",
    "\n",
    "train = [xdspy.Example(question=q, answer=a) for q, a in train]"
   ]
  },
  {
   "cell_type": "code",
   "execution_count": 15,
   "metadata": {},
   "outputs": [
    {
     "data": {
      "text/plain": [
       "{'question': 'Who produced the album that included a re-recording of \"Lithium\"?',\n",
       " 'answer': ['Butch Vig']}"
      ]
     },
     "execution_count": 15,
     "metadata": {},
     "output_type": "execute_result"
    }
   ],
   "source": [
    "train[0]"
   ]
  },
  {
   "cell_type": "code",
   "execution_count": 16,
   "metadata": {},
   "outputs": [],
   "source": [
    "dev = [('Who has a broader scope of profession: E. L. Doctorow or Julia Peterkin?', ['E. L. Doctorow', 'E.L. Doctorow', 'Doctorow']),\n",
    "       ('What documentary about the Gilgo Beach Killer debuted on A&E?', ['The Killing Season']),\n",
    "       ('Right Back At It Again contains lyrics co-written by the singer born in what city?', ['Gainesville, Florida', 'Gainesville']),\n",
    "       ('What year was the party of the winner of the 1971 San Francisco mayoral election founded?', ['1828']),\n",
    "       ('Which author is English: John Braine or Studs Terkel?', ['John Braine']),\n",
    "       ('Anthony Dirrell is the brother of which super middleweight title holder?', ['Andre Dirrell']),\n",
    "       ('In which city is the sports nutrition business established by Oliver Cookson based ?', ['Cheshire', 'Cheshire, UK']),\n",
    "       ('Find the birth date of the actor who played roles in First Wives Club and Searching for the Elephant.', ['February 13, 1980']),\n",
    "       ('Kyle Moran was born in the town on what river?', ['Castletown', 'Castletown River']),\n",
    "       (\"What is the name of one branch of Robert D. Braun's speciality?\", ['aeronautical engineering', 'astronautical engineering', 'aeronautics', 'astronautics']),\n",
    "       (\"Where was the actress who played the niece in the Priest film born?\", ['Surrey', 'Guildford, Surrey']),\n",
    "       ('Name the movie in which the daughter of Noel Harrison plays Violet Trefusis.', ['Portrait of a Marriage']),\n",
    "       ('What year was the father of the Princes in the Tower born?', ['1442'])]\n",
    "dev = [xdspy.Example(question=q, answer=a) for q, a in dev]"
   ]
  },
  {
   "cell_type": "code",
   "execution_count": 17,
   "metadata": {},
   "outputs": [],
   "source": [
    "Question = xdspy.Type(prefix='Question:', desc='${the question to be answered}')\n",
    "Answer = xdspy.Type(prefix='Final Answer:', desc=\"${a short factoid answer, often between 1 and 5 words}\", format=xdspy.format_answers)"
   ]
  },
  {
   "cell_type": "code",
   "execution_count": 18,
   "metadata": {},
   "outputs": [
    {
     "data": {
      "text/plain": [
       "('Final Answer:',\n",
       " '${a short factoid answer, often between 1 and 5 words}',\n",
       " <function xdspy.templates.template_v2.format_answers(answers)>,\n",
       " [],\n",
       " {'kwargs': {}})"
      ]
     },
     "execution_count": 18,
     "metadata": {},
     "output_type": "execute_result"
    }
   ],
   "source": [
    "qest = Answer()\n",
    "qest.prefix, qest.desc, qest.format, qest.aliases, qest.kwargs"
   ]
  },
  {
   "cell_type": "code",
   "execution_count": 19,
   "metadata": {},
   "outputs": [
    {
     "name": "stdout",
     "output_type": "stream",
     "text": [
      "question <xdspy.templates.template_v3.Type object at 0x11d89ae60>\n",
      "answer <xdspy.templates.template_v3.Type object at 0x11d89b9a0>\n"
     ]
    }
   ],
   "source": [
    "qa_template = xdspy.Template(instruction=\"Answer questions with short factoid answers.\", question=Question(), answer=Answer())"
   ]
  },
  {
   "cell_type": "code",
   "execution_count": 20,
   "metadata": {},
   "outputs": [
    {
     "data": {
      "text/plain": [
       "{'instruction': 'Answer questions with short factoid answers.',\n",
       " 'fields': [Field(name='Question:', seperator=' ', input_variable='question', output_variable='question', description='${the question to be answered}'),\n",
       "  Field(name='Final Answer:', seperator=' ', input_variable='answer', output_variable='answer', description='${a short factoid answer, often between 1 and 5 words}')],\n",
       " 'format_handlers': {'context': <function xdspy.templates.template_v2.passages2text(passages)>,\n",
       "  'answers': <function xdspy.templates.template_v2.format_answers(answers)>,\n",
       "  'answer': <function xdspy.templates.template_v2.format_answers(answers)>}}"
      ]
     },
     "execution_count": 20,
     "metadata": {},
     "output_type": "execute_result"
    }
   ],
   "source": [
    "qa_template.__dict__"
   ]
  },
  {
   "cell_type": "markdown",
   "metadata": {},
   "source": [
    "# LM chain\n"
   ]
  },
  {
   "cell_type": "code",
   "execution_count": 29,
   "metadata": {},
   "outputs": [
    {
     "name": "stdout",
     "output_type": "stream",
     "text": [
      "The autoreload extension is already loaded. To reload it, use:\n",
      "  %reload_ext autoreload\n"
     ]
    }
   ],
   "source": [
    "%load_ext autoreload\n",
    "%autoreload 2\n",
    "%reload_ext autoreload"
   ]
  },
  {
   "cell_type": "code",
   "execution_count": 30,
   "metadata": {},
   "outputs": [
    {
     "data": {
      "text/plain": [
       "{'stack': [{},\n",
       "  {'lm': <xdspy.modules.gpt3.GPT3 at 0x11d692d40>,\n",
       "   'rm': <xdspy.modules.colbertv2.Colbertv2 at 0x11d693d00>}]}"
      ]
     },
     "execution_count": 30,
     "metadata": {},
     "output_type": "execute_result"
    }
   ],
   "source": [
    "xdspy.settings.__dict__"
   ]
  },
  {
   "cell_type": "code",
   "execution_count": 31,
   "metadata": {},
   "outputs": [
    {
     "data": {
      "text/plain": [
       "({'lm': <xdspy.modules.gpt3.GPT3 at 0x11d692d40>,\n",
       "  'rm': <xdspy.modules.colbertv2.Colbertv2 at 0x11d693d00>},\n",
       " 2)"
      ]
     },
     "execution_count": 31,
     "metadata": {},
     "output_type": "execute_result"
    }
   ],
   "source": [
    "xdspy.settings.config, len(xdspy.settings.config)"
   ]
  },
  {
   "cell_type": "code",
   "execution_count": 32,
   "metadata": {},
   "outputs": [
    {
     "data": {
      "text/plain": [
       "[{},\n",
       " {'lm': <xdspy.modules.gpt3.GPT3 at 0x11d692d40>,\n",
       "  'rm': <xdspy.modules.colbertv2.Colbertv2 at 0x11d693d00>}]"
      ]
     },
     "execution_count": 32,
     "metadata": {},
     "output_type": "execute_result"
    }
   ],
   "source": [
    "xdspy.settings.stack"
   ]
  },
  {
   "cell_type": "code",
   "execution_count": 52,
   "metadata": {},
   "outputs": [],
   "source": [
    "def Vanilla_LM_QA(question):\n",
    "    demos = xdspy.sample(train, 7)\n",
    "    example = xdspy.Example(question=question, demos=demos)\n",
    "    # print(xdspy.generate(qa_template)(example, stage='qa'))\n",
    "    return xdspy.generate(qa_template)(example, stage='qa')\n"
   ]
  },
  {
   "cell_type": "code",
   "execution_count": 88,
   "metadata": {},
   "outputs": [
    {
     "name": "stderr",
     "output_type": "stream",
     "text": [
      "ic| example: {'answer': '${a short factoid answer, often between 1 and 5 words}',\n",
      "              'question': '${the question to be answered}'}\n",
      "ic| self._guidlines(): ('Follow the following format. \n",
      "                       '\n",
      "                        '\n",
      "                       '\n",
      "                        'Question: ${the question to be answered}\n",
      "                       '\n",
      "                        'Final Answer: None')\n",
      "ic| example: {'answer': '${a short factoid answer, often between 1 and 5 words}',\n",
      "              'question': '${the question to be answered}'}\n"
     ]
    },
    {
     "data": {
      "text/plain": [
       "['Answer questions with short factoid answers.',\n",
       " 'Follow the following format. \\n\\nQuestion: ${the question to be answered}\\nFinal Answer: None',\n",
       " 'Question: Which award did the first book of Gary Zukav receive?\\nFinal Answer: U.S. National Book Award\\n\\nQuestion: The heir to the Du Pont family fortune sponsored what wrestling team?\\nFinal Answer: Foxcatcher\\n\\nQuestion: Who was the director of the 2009 movie featuring Peter Outerbridge as William Easton?\\nFinal Answer: Kevin Greutert\\n\\nQuestion: Who produced the album that included a re-recording of \"Lithium\"?\\nFinal Answer: Butch Vig\\n\\nQuestion: What city was the victim of Joseph Druces working in?\\nFinal Answer: Boston, Massachusetts\\n\\nQuestion: In what year was the star of To Hell and Back born?\\nFinal Answer: 1925\\n\\nQuestion: Who has a broader scope of profession: E. L. Doctorow or Julia Peterkin?\\nFinal Answer: None']"
      ]
     },
     "execution_count": 88,
     "metadata": {},
     "output_type": "execute_result"
    }
   ],
   "source": [
    "question = dev[0].question\n",
    "result = Vanilla_LM_QA(question)\n",
    "result"
   ]
  },
  {
   "cell_type": "code",
   "execution_count": 76,
   "metadata": {},
   "outputs": [
    {
     "name": "stdout",
     "output_type": "stream",
     "text": [
      "Answer questions with short factoid answers.\n",
      "Follow the following format. \n",
      "\n",
      "Question: ${the question to be answered}\n",
      "Final Answer: None\n",
      "Question: Which award did the first book of Gary Zukav receive?\n",
      "Final Answer: U.S. National Book Award\n",
      "\n",
      "Question: The heir to the Du Pont family fortune sponsored what wrestling team?\n",
      "Final Answer: Foxcatcher\n",
      "\n",
      "Question: Who was the director of the 2009 movie featuring Peter Outerbridge as William Easton?\n",
      "Final Answer: Kevin Greutert\n",
      "\n",
      "Question: Who produced the album that included a re-recording of \"Lithium\"?\n",
      "Final Answer: Butch Vig\n",
      "\n",
      "Question: What city was the victim of Joseph Druces working in?\n",
      "Final Answer: Boston, Massachusetts\n",
      "\n",
      "Question: In what year was the star of To Hell and Back born?\n",
      "Final Answer: 1925\n",
      "\n",
      "Question: Who has a broader scope of profession: E. L. Doctorow or Julia Peterkin?\n",
      "Final Answer: None\n"
     ]
    }
   ],
   "source": [
    "for r in result:\n",
    "    print(r)\n",
    "# print(result)"
   ]
  }
 ],
 "metadata": {
  "kernelspec": {
   "display_name": "liblab",
   "language": "python",
   "name": "python3"
  },
  "language_info": {
   "codemirror_mode": {
    "name": "ipython",
    "version": 3
   },
   "file_extension": ".py",
   "mimetype": "text/x-python",
   "name": "python",
   "nbconvert_exporter": "python",
   "pygments_lexer": "ipython3",
   "version": "3.10.14"
  }
 },
 "nbformat": 4,
 "nbformat_minor": 2
}
